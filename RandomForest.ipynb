{
  "nbformat": 4,
  "nbformat_minor": 0,
  "metadata": {
    "colab": {
      "provenance": [],
      "authorship_tag": "ABX9TyN5/TdXhQTTbCeLxXuhRe0Y",
      "include_colab_link": true
    },
    "kernelspec": {
      "name": "python3",
      "display_name": "Python 3"
    },
    "language_info": {
      "name": "python"
    }
  },
  "cells": [
    {
      "cell_type": "markdown",
      "metadata": {
        "id": "view-in-github",
        "colab_type": "text"
      },
      "source": [
        "<a href=\"https://colab.research.google.com/github/raff-gichira/ProjRaf/blob/main/RandomForest.ipynb\" target=\"_parent\"><img src=\"https://colab.research.google.com/assets/colab-badge.svg\" alt=\"Open In Colab\"/></a>"
      ]
    },
    {
      "cell_type": "markdown",
      "source": [
        "A supervised learning algorithm like Random Forest Classifier is an appropriate algorithm for this task due to the nature of the problem and the size of the dataset. The algorithm is capable of handling missing values and categorical features and is known to perform well on multi-class classification problems."
      ],
      "metadata": {
        "id": "uvqZHOi68J19"
      }
    },
    {
      "cell_type": "code",
      "source": [
        "# Load Libraries\n",
        "import pandas as pd\n",
        "import numpy as np\n",
        "from sklearn.model_selection import train_test_split\n",
        "from sklearn.ensemble import RandomForestClassifier\n",
        "from sklearn.metrics import f1_score\n",
        "\n",
        "# Load Dataset\n",
        "dat=pd.read_csv('train.csv')\n",
        "\n",
        "# Prepare data\n",
        "X=dat[dat.columns[1:51]]\n",
        "y=dat['Result']\n",
        "\n",
        "# Split Data\n",
        "\n",
        "X_train,X_test,y_train,y_test=train_test_split(X,y,test_size=0.2,random_state=42)\n",
        "\n",
        "# Build Model\n",
        "model=RandomForestClassifier(n_estimators=100,random_state=42)\n",
        "model.fit(X_train,y_train)\n",
        "\n",
        "#f1 score evaluate\n",
        "pred=model.predict(X_test)\n",
        "score = f1_score(y_test, pred, average='micro')\n",
        "print('F1 Score: {}'.format(score))\n",
        "\n",
        "# Test Dataset\n",
        "test_df=pd.read_csv('test.csv')\n",
        "X_test=test_df[test_df.columns[1:51]]\n",
        "prediction=model.predict(X_test)\n",
        "#print(prediction)\n",
        "\n",
        "# Submission File\n",
        "submission_df=pd.DataFrame({'ID':test_df['ID'],\n",
        "                            'Result':prediction})\n",
        "# Write to csv file\n",
        "submission_df.to_csv('submission.csv',index=False)\n"
      ],
      "metadata": {
        "colab": {
          "base_uri": "https://localhost:8080/"
        },
        "id": "DoWANuyUQaAT",
        "outputId": "c79f919d-98a3-4133-a3a7-d71c489977e2"
      },
      "execution_count": null,
      "outputs": [
        {
          "output_type": "stream",
          "name": "stdout",
          "text": [
            "F1 Score: 0.5718954248366013\n"
          ]
        }
      ]
    }
  ]
}